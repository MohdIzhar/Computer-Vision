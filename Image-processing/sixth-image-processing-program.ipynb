{
 "cells": [
  {
   "cell_type": "code",
   "execution_count": 1,
   "metadata": {},
   "outputs": [],
   "source": [
    "# applying smoothing and blurring\n",
    "import cv2\n",
    "import numpy as np\n",
    "\n",
    "cap = cv2.VideoCapture(0)\n",
    "\n",
    "while(1):\n",
    "\n",
    "    _, frame = cap.read()\n",
    "    hsv = cv2.cvtColor(frame, cv2.COLOR_BGR2HSV) # color to HSV conversion\n",
    "    \n",
    "    lower_red = np.array([30,150,50]) # setting lower range of red color to identify red coclor\n",
    "    upper_red = np.array([255,255,180]) # setting upper range of red color to identify red coclor\n",
    "    \n",
    "    mask = cv2.inRange(hsv, lower_red, upper_red) # identifying red color variation the color in range\n",
    "    res = cv2.bitwise_and(frame,frame, mask= mask) # masking the image to settle differrence the background and color\n",
    "    \n",
    "   # let's apply a simple smoothing, where we do a sort of averaging per block\n",
    "   # of pixels. In our case, let's do a 15 x 15 square, which means we have 225\n",
    "   # total pixels.\n",
    "        \n",
    "    kernel = np.ones((15,15),np.float32)/225\n",
    "    smoothed = cv2.filter2D(res,-1,kernel)\n",
    "    cv2.imshow('Original',frame)\n",
    "    cv2.imshow('Averaging',smoothed)\n",
    "\n",
    "    # let's try some Gaussian Blurring:\n",
    "    \n",
    "    blur = cv2.GaussianBlur(res,(15,15),0)\n",
    "    cv2.imshow('Gaussian Blurring',blur)\n",
    "    \n",
    "    median = cv2.medianBlur(res,15)\n",
    "    cv2.imshow('Median Blur',median)\n",
    "    \n",
    "    bilateral = cv2.bilateralFilter(res,15,75,75)\n",
    "    cv2.imshow('bilateral Blur',bilateral)\n",
    "    \n",
    "    k = cv2.waitKey(1) \n",
    "    if k == 13:\n",
    "        break\n",
    "\n",
    "cv2.destroyAllWindows()\n",
    "cap.release()"
   ]
  },
  {
   "cell_type": "code",
   "execution_count": null,
   "metadata": {},
   "outputs": [],
   "source": []
  }
 ],
 "metadata": {
  "kernelspec": {
   "display_name": "Python 3",
   "language": "python",
   "name": "python3"
  },
  "language_info": {
   "codemirror_mode": {
    "name": "ipython",
    "version": 3
   },
   "file_extension": ".py",
   "mimetype": "text/x-python",
   "name": "python",
   "nbconvert_exporter": "python",
   "pygments_lexer": "ipython3",
   "version": "3.6.4"
  }
 },
 "nbformat": 4,
 "nbformat_minor": 2
}
