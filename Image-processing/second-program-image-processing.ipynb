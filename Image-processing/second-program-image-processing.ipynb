{
 "cells": [
  {
   "cell_type": "code",
   "execution_count": 1,
   "metadata": {},
   "outputs": [],
   "source": [
    "import numpy as np\n",
    "import cv2"
   ]
  },
  {
   "cell_type": "code",
   "execution_count": 2,
   "metadata": {},
   "outputs": [],
   "source": [
    "img = cv2.imread('watch.jpg',cv2.IMREAD_COLOR)"
   ]
  },
  {
   "cell_type": "code",
   "execution_count": 3,
   "metadata": {
    "scrolled": true
   },
   "outputs": [
    {
     "data": {
      "text/plain": [
       "array([[[255, 255, 255],\n",
       "        [ 31,  27,  33],\n",
       "        [ 31,  27,  33],\n",
       "        ...,\n",
       "        [ 37,  33,  45],\n",
       "        [ 38,  34,  46],\n",
       "        [ 40,  36,  48]],\n",
       "\n",
       "       [[ 32,  28,  34],\n",
       "        [255, 255, 255],\n",
       "        [ 30,  26,  32],\n",
       "        ...,\n",
       "        [ 34,  30,  42],\n",
       "        [ 35,  31,  43],\n",
       "        [ 35,  31,  43]],\n",
       "\n",
       "       [[ 32,  30,  36],\n",
       "        [ 30,  28,  34],\n",
       "        [255, 255, 255],\n",
       "        ...,\n",
       "        [ 31,  27,  38],\n",
       "        [ 32,  28,  40],\n",
       "        [ 31,  27,  39]],\n",
       "\n",
       "       ...,\n",
       "\n",
       "       [[ 46,  54,  71],\n",
       "        [ 42,  50,  67],\n",
       "        [ 40,  48,  65],\n",
       "        ...,\n",
       "        [ 40,  62,  97],\n",
       "        [ 37,  60,  92],\n",
       "        [ 41,  64,  96]],\n",
       "\n",
       "       [[ 35,  45,  62],\n",
       "        [ 44,  54,  71],\n",
       "        [ 48,  58,  75],\n",
       "        ...,\n",
       "        [ 39,  64,  98],\n",
       "        [ 40,  65,  97],\n",
       "        [ 37,  62,  94]],\n",
       "\n",
       "       [[ 39,  49,  66],\n",
       "        [ 34,  44,  61],\n",
       "        [ 35,  45,  62],\n",
       "        ...,\n",
       "        [ 46,  71, 105],\n",
       "        [ 47,  72, 106],\n",
       "        [ 46,  71, 103]]], dtype=uint8)"
      ]
     },
     "execution_count": 3,
     "metadata": {},
     "output_type": "execute_result"
    }
   ],
   "source": [
    "# drawing line on image\n",
    "# first paramter = image on which line to be drawn\n",
    "# second paramter = x1,y1 co-ordinate\n",
    "# third paramter = x2,y2 co-ordinate  // basically they are pixels\n",
    "# fourth parameter = color of line in RGB\n",
    "cv2.line(img,(0,0),(150,150),(255,255,255))"
   ]
  },
  {
   "cell_type": "code",
   "execution_count": 4,
   "metadata": {},
   "outputs": [],
   "source": [
    "cv2.imshow('image',img)\n",
    "cv2.waitKey(0)\n",
    "cv2.destroyAllWindows()"
   ]
  },
  {
   "cell_type": "code",
   "execution_count": 5,
   "metadata": {},
   "outputs": [
    {
     "data": {
      "text/plain": [
       "array([[[255, 255, 255],\n",
       "        [255, 255, 255],\n",
       "        [255, 255, 255],\n",
       "        ...,\n",
       "        [ 37,  33,  45],\n",
       "        [ 38,  34,  46],\n",
       "        [ 40,  36,  48]],\n",
       "\n",
       "       [[255, 255, 255],\n",
       "        [255, 255, 255],\n",
       "        [255, 255, 255],\n",
       "        ...,\n",
       "        [ 34,  30,  42],\n",
       "        [ 35,  31,  43],\n",
       "        [ 35,  31,  43]],\n",
       "\n",
       "       [[255, 255, 255],\n",
       "        [255, 255, 255],\n",
       "        [255, 255, 255],\n",
       "        ...,\n",
       "        [ 31,  27,  38],\n",
       "        [ 32,  28,  40],\n",
       "        [ 31,  27,  39]],\n",
       "\n",
       "       ...,\n",
       "\n",
       "       [[ 46,  54,  71],\n",
       "        [ 42,  50,  67],\n",
       "        [ 40,  48,  65],\n",
       "        ...,\n",
       "        [ 40,  62,  97],\n",
       "        [ 37,  60,  92],\n",
       "        [ 41,  64,  96]],\n",
       "\n",
       "       [[ 35,  45,  62],\n",
       "        [ 44,  54,  71],\n",
       "        [ 48,  58,  75],\n",
       "        ...,\n",
       "        [ 39,  64,  98],\n",
       "        [ 40,  65,  97],\n",
       "        [ 37,  62,  94]],\n",
       "\n",
       "       [[ 39,  49,  66],\n",
       "        [ 34,  44,  61],\n",
       "        [ 35,  45,  62],\n",
       "        ...,\n",
       "        [ 46,  71, 105],\n",
       "        [ 47,  72, 106],\n",
       "        [ 46,  71, 103]]], dtype=uint8)"
      ]
     },
     "execution_count": 5,
     "metadata": {},
     "output_type": "execute_result"
    }
   ],
   "source": [
    "# to give thickness pass fifth parameter\n",
    "cv2.line(img,(0,0),(150,150),(255,255,255),15)"
   ]
  },
  {
   "cell_type": "code",
   "execution_count": 6,
   "metadata": {},
   "outputs": [],
   "source": [
    "cv2.imshow('image',img)\n",
    "cv2.waitKey(0)\n",
    "cv2.destroyAllWindows()"
   ]
  },
  {
   "cell_type": "code",
   "execution_count": 7,
   "metadata": {},
   "outputs": [
    {
     "data": {
      "text/plain": [
       "array([[[255, 255, 255],\n",
       "        [255, 255, 255],\n",
       "        [255, 255, 255],\n",
       "        ...,\n",
       "        [ 37,  33,  45],\n",
       "        [ 38,  34,  46],\n",
       "        [ 40,  36,  48]],\n",
       "\n",
       "       [[255, 255, 255],\n",
       "        [255, 255, 255],\n",
       "        [255, 255, 255],\n",
       "        ...,\n",
       "        [ 34,  30,  42],\n",
       "        [ 35,  31,  43],\n",
       "        [ 35,  31,  43]],\n",
       "\n",
       "       [[255, 255, 255],\n",
       "        [255, 255, 255],\n",
       "        [255, 255, 255],\n",
       "        ...,\n",
       "        [ 31,  27,  38],\n",
       "        [ 32,  28,  40],\n",
       "        [ 31,  27,  39]],\n",
       "\n",
       "       ...,\n",
       "\n",
       "       [[ 46,  54,  71],\n",
       "        [ 42,  50,  67],\n",
       "        [ 40,  48,  65],\n",
       "        ...,\n",
       "        [ 40,  62,  97],\n",
       "        [ 37,  60,  92],\n",
       "        [ 41,  64,  96]],\n",
       "\n",
       "       [[ 35,  45,  62],\n",
       "        [ 44,  54,  71],\n",
       "        [ 48,  58,  75],\n",
       "        ...,\n",
       "        [ 39,  64,  98],\n",
       "        [ 40,  65,  97],\n",
       "        [ 37,  62,  94]],\n",
       "\n",
       "       [[ 39,  49,  66],\n",
       "        [ 34,  44,  61],\n",
       "        [ 35,  45,  62],\n",
       "        ...,\n",
       "        [ 46,  71, 105],\n",
       "        [ 47,  72, 106],\n",
       "        [ 46,  71, 103]]], dtype=uint8)"
      ]
     },
     "execution_count": 7,
     "metadata": {},
     "output_type": "execute_result"
    }
   ],
   "source": [
    "# drawing rectangle \n",
    "cv2.rectangle(img,(15,25),(200,150),(0,0,255),15)"
   ]
  },
  {
   "cell_type": "code",
   "execution_count": 8,
   "metadata": {},
   "outputs": [
    {
     "data": {
      "text/plain": [
       "array([[[255, 255, 255],\n",
       "        [255, 255, 255],\n",
       "        [255, 255, 255],\n",
       "        ...,\n",
       "        [ 37,  33,  45],\n",
       "        [ 38,  34,  46],\n",
       "        [ 40,  36,  48]],\n",
       "\n",
       "       [[255, 255, 255],\n",
       "        [255, 255, 255],\n",
       "        [255, 255, 255],\n",
       "        ...,\n",
       "        [ 34,  30,  42],\n",
       "        [ 35,  31,  43],\n",
       "        [ 35,  31,  43]],\n",
       "\n",
       "       [[255, 255, 255],\n",
       "        [255, 255, 255],\n",
       "        [255, 255, 255],\n",
       "        ...,\n",
       "        [ 31,  27,  38],\n",
       "        [ 32,  28,  40],\n",
       "        [ 31,  27,  39]],\n",
       "\n",
       "       ...,\n",
       "\n",
       "       [[ 46,  54,  71],\n",
       "        [ 42,  50,  67],\n",
       "        [ 40,  48,  65],\n",
       "        ...,\n",
       "        [ 40,  62,  97],\n",
       "        [ 37,  60,  92],\n",
       "        [ 41,  64,  96]],\n",
       "\n",
       "       [[ 35,  45,  62],\n",
       "        [ 44,  54,  71],\n",
       "        [ 48,  58,  75],\n",
       "        ...,\n",
       "        [ 39,  64,  98],\n",
       "        [ 40,  65,  97],\n",
       "        [ 37,  62,  94]],\n",
       "\n",
       "       [[ 39,  49,  66],\n",
       "        [ 34,  44,  61],\n",
       "        [ 35,  45,  62],\n",
       "        ...,\n",
       "        [ 46,  71, 105],\n",
       "        [ 47,  72, 106],\n",
       "        [ 46,  71, 103]]], dtype=uint8)"
      ]
     },
     "execution_count": 8,
     "metadata": {},
     "output_type": "execute_result"
    }
   ],
   "source": [
    "# drawing cirlce\n",
    "# parameters are the image, the center of the circle, the radius, color, and thickness\n",
    "cv2.circle(img,(100,63), 55, (0,255,0), -1)"
   ]
  },
  {
   "cell_type": "code",
   "execution_count": 9,
   "metadata": {},
   "outputs": [],
   "source": [
    "cv2.imshow('image',img)\n",
    "cv2.waitKey(0)\n",
    "cv2.destroyAllWindows()"
   ]
  },
  {
   "cell_type": "code",
   "execution_count": 10,
   "metadata": {},
   "outputs": [
    {
     "data": {
      "text/plain": [
       "array([[[255, 255, 255],\n",
       "        [255, 255, 255],\n",
       "        [255, 255, 255],\n",
       "        ...,\n",
       "        [ 37,  33,  45],\n",
       "        [ 38,  34,  46],\n",
       "        [ 40,  36,  48]],\n",
       "\n",
       "       [[255, 255, 255],\n",
       "        [255, 255, 255],\n",
       "        [255, 255, 255],\n",
       "        ...,\n",
       "        [ 34,  30,  42],\n",
       "        [ 35,  31,  43],\n",
       "        [ 35,  31,  43]],\n",
       "\n",
       "       [[255, 255, 255],\n",
       "        [255, 255, 255],\n",
       "        [255, 255, 255],\n",
       "        ...,\n",
       "        [ 31,  27,  38],\n",
       "        [ 32,  28,  40],\n",
       "        [ 31,  27,  39]],\n",
       "\n",
       "       ...,\n",
       "\n",
       "       [[ 46,  54,  71],\n",
       "        [ 42,  50,  67],\n",
       "        [ 40,  48,  65],\n",
       "        ...,\n",
       "        [ 40,  62,  97],\n",
       "        [ 37,  60,  92],\n",
       "        [ 41,  64,  96]],\n",
       "\n",
       "       [[ 35,  45,  62],\n",
       "        [ 44,  54,  71],\n",
       "        [ 48,  58,  75],\n",
       "        ...,\n",
       "        [ 39,  64,  98],\n",
       "        [ 40,  65,  97],\n",
       "        [ 37,  62,  94]],\n",
       "\n",
       "       [[ 39,  49,  66],\n",
       "        [ 34,  44,  61],\n",
       "        [ 35,  45,  62],\n",
       "        ...,\n",
       "        [ 46,  71, 105],\n",
       "        [ 47,  72, 106],\n",
       "        [ 46,  71, 103]]], dtype=uint8)"
      ]
     },
     "execution_count": 10,
     "metadata": {},
     "output_type": "execute_result"
    }
   ],
   "source": [
    "# to write some text on image\n",
    "font = cv2.FONT_HERSHEY_SIMPLEX\n",
    "cv2.putText(img,'OpenCV Tuts!',(0,130), font, 1, (200,255,155), 2, cv2.LINE_AA)"
   ]
  },
  {
   "cell_type": "code",
   "execution_count": 11,
   "metadata": {},
   "outputs": [],
   "source": [
    "cv2.imshow('image',img)\n",
    "cv2.waitKey(0)\n",
    "cv2.destroyAllWindows()"
   ]
  },
  {
   "cell_type": "code",
   "execution_count": 12,
   "metadata": {},
   "outputs": [
    {
     "data": {
      "text/plain": [
       "array([[[255, 255, 255],\n",
       "        [255, 255, 255],\n",
       "        [255, 255, 255],\n",
       "        ...,\n",
       "        [ 37,  33,  45],\n",
       "        [ 38,  34,  46],\n",
       "        [ 40,  36,  48]],\n",
       "\n",
       "       [[255, 255, 255],\n",
       "        [255, 255, 255],\n",
       "        [255, 255, 255],\n",
       "        ...,\n",
       "        [ 34,  30,  42],\n",
       "        [ 35,  31,  43],\n",
       "        [ 35,  31,  43]],\n",
       "\n",
       "       [[255, 255, 255],\n",
       "        [255, 255, 255],\n",
       "        [255, 255, 255],\n",
       "        ...,\n",
       "        [ 31,  27,  38],\n",
       "        [ 32,  28,  40],\n",
       "        [ 31,  27,  39]],\n",
       "\n",
       "       ...,\n",
       "\n",
       "       [[ 46,  54,  71],\n",
       "        [ 42,  50,  67],\n",
       "        [ 40,  48,  65],\n",
       "        ...,\n",
       "        [ 40,  62,  97],\n",
       "        [ 37,  60,  92],\n",
       "        [ 41,  64,  96]],\n",
       "\n",
       "       [[ 35,  45,  62],\n",
       "        [ 44,  54,  71],\n",
       "        [ 48,  58,  75],\n",
       "        ...,\n",
       "        [ 39,  64,  98],\n",
       "        [ 40,  65,  97],\n",
       "        [ 37,  62,  94]],\n",
       "\n",
       "       [[ 39,  49,  66],\n",
       "        [ 34,  44,  61],\n",
       "        [ 35,  45,  62],\n",
       "        ...,\n",
       "        [ 46,  71, 105],\n",
       "        [ 47,  72, 106],\n",
       "        [ 46,  71, 103]]], dtype=uint8)"
      ]
     },
     "execution_count": 12,
     "metadata": {},
     "output_type": "execute_result"
    }
   ],
   "source": [
    "# drawing pentagons\n",
    "pts = np.array([[10,5],[20,30],[70,20],[50,10]], np.int32)\n",
    "# OpenCV documentation had this code, which reshapes the array to a 1 x 2. I did not \n",
    "# find this necessary, but you may:\n",
    "# pts = pts.reshape((-1,1,2))\n",
    "# The parameters are as follows: where is the object being drawn to, \n",
    "# the coordinates, should we \"connect\" the final and starting dot, \n",
    "# the color, and thickness.\n",
    "cv2.polylines(img, [pts], True, (0,255,255), 3)"
   ]
  },
  {
   "cell_type": "code",
   "execution_count": 13,
   "metadata": {},
   "outputs": [],
   "source": [
    "cv2.imshow('image',img)\n",
    "cv2.waitKey(0)\n",
    "cv2.destroyAllWindows()"
   ]
  },
  {
   "cell_type": "code",
   "execution_count": null,
   "metadata": {},
   "outputs": [],
   "source": []
  }
 ],
 "metadata": {
  "kernelspec": {
   "display_name": "Python 3",
   "language": "python",
   "name": "python3"
  },
  "language_info": {
   "codemirror_mode": {
    "name": "ipython",
    "version": 3
   },
   "file_extension": ".py",
   "mimetype": "text/x-python",
   "name": "python",
   "nbconvert_exporter": "python",
   "pygments_lexer": "ipython3",
   "version": "3.6.4"
  }
 },
 "nbformat": 4,
 "nbformat_minor": 2
}
