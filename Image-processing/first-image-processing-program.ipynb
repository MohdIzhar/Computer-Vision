{
 "cells": [
  {
   "cell_type": "code",
   "execution_count": 1,
   "metadata": {},
   "outputs": [],
   "source": [
    "import cv2\n",
    "import numpy as np"
   ]
  },
  {
   "cell_type": "code",
   "execution_count": 2,
   "metadata": {},
   "outputs": [],
   "source": [
    "# by default parameter for reading image color if you dont specify automatically it will use that \n",
    "img = cv2.imread('watch.jpg',cv2.IMREAD_COLOR)  "
   ]
  },
  {
   "cell_type": "code",
   "execution_count": 3,
   "metadata": {},
   "outputs": [],
   "source": [
    "# choosing specific pixels\n",
    "px = img[55,55]"
   ]
  },
  {
   "cell_type": "code",
   "execution_count": 4,
   "metadata": {},
   "outputs": [],
   "source": [
    "# changing the pixel\n",
    "img[55,55] = [255,255,255]"
   ]
  },
  {
   "cell_type": "code",
   "execution_count": 5,
   "metadata": {},
   "outputs": [
    {
     "name": "stdout",
     "output_type": "stream",
     "text": [
      "[[[ 53  48  57]\n",
      "  [ 53  48  57]\n",
      "  [ 54  46  56]\n",
      "  ...\n",
      "  [ 36  36  42]\n",
      "  [ 36  36  42]\n",
      "  [ 56  56  62]]\n",
      "\n",
      " [[ 48  43  52]\n",
      "  [ 50  45  54]\n",
      "  [ 53  45  55]\n",
      "  ...\n",
      "  [ 36  34  40]\n",
      "  [ 42  40  46]\n",
      "  [ 39  37  43]]\n",
      "\n",
      " [[ 46  41  50]\n",
      "  [ 47  42  51]\n",
      "  [ 51  43  53]\n",
      "  ...\n",
      "  [ 33  33  39]\n",
      "  [ 33  33  39]\n",
      "  [ 56  56  62]]\n",
      "\n",
      " ...\n",
      "\n",
      " [[ 25  34  47]\n",
      "  [ 27  36  49]\n",
      "  [ 30  39  53]\n",
      "  ...\n",
      "  [105 114 128]\n",
      "  [106 114 131]\n",
      "  [106 114 131]]\n",
      "\n",
      " [[ 27  36  50]\n",
      "  [ 26  35  49]\n",
      "  [ 26  35  49]\n",
      "  ...\n",
      "  [ 96 110 129]\n",
      "  [105 116 138]\n",
      "  [109 120 142]]\n",
      "\n",
      " [[ 27  36  50]\n",
      "  [ 25  34  48]\n",
      "  [ 25  34  48]\n",
      "  ...\n",
      "  [101 114 136]\n",
      "  [100 112 136]\n",
      "  [107 117 141]]]\n"
     ]
    }
   ],
   "source": [
    "# re-reference \n",
    "px = img[100:150, 100:150]\n",
    "print(px)"
   ]
  },
  {
   "cell_type": "code",
   "execution_count": 12,
   "metadata": {},
   "outputs": [],
   "source": [
    "img[100:150,100:150] = [255,255,255]"
   ]
  },
  {
   "cell_type": "code",
   "execution_count": 13,
   "metadata": {},
   "outputs": [
    {
     "name": "stdout",
     "output_type": "stream",
     "text": [
      "(168, 300, 3)\n",
      "151200\n",
      "uint8\n"
     ]
    }
   ],
   "source": [
    "print(img.shape)\n",
    "print(img.size)\n",
    "print(img.dtype)"
   ]
  },
  {
   "cell_type": "code",
   "execution_count": 14,
   "metadata": {},
   "outputs": [],
   "source": [
    "watch_face = img[37:111,107:194]\n",
    "img[0:74,0:87] = watch_face\n",
    "\n",
    "cv2.imshow('image',img)\n",
    "cv2.waitKey(0)\n",
    "cv2.destroyAllWindows()"
   ]
  },
  {
   "cell_type": "code",
   "execution_count": null,
   "metadata": {},
   "outputs": [],
   "source": []
  }
 ],
 "metadata": {
  "kernelspec": {
   "display_name": "Python 3",
   "language": "python",
   "name": "python3"
  },
  "language_info": {
   "codemirror_mode": {
    "name": "ipython",
    "version": 3
   },
   "file_extension": ".py",
   "mimetype": "text/x-python",
   "name": "python",
   "nbconvert_exporter": "python",
   "pygments_lexer": "ipython3",
   "version": "3.6.4"
  }
 },
 "nbformat": 4,
 "nbformat_minor": 2
}
