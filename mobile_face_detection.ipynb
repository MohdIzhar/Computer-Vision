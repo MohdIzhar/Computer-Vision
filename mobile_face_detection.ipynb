{
 "cells": [
  {
   "cell_type": "code",
   "execution_count": 1,
   "metadata": {},
   "outputs": [],
   "source": [
    "import numpy as np\n",
    "import cv2\n",
    "import requests"
   ]
  },
  {
   "cell_type": "code",
   "execution_count": 2,
   "metadata": {},
   "outputs": [],
   "source": [
    "face_detect = cv2.CascadeClassifier('haarcascade_frontalface_default.xml')"
   ]
  },
  {
   "cell_type": "code",
   "execution_count": 3,
   "metadata": {},
   "outputs": [],
   "source": [
    "url = \"http://192.168.43.1:8080/shot.jpg\""
   ]
  },
  {
   "cell_type": "code",
   "execution_count": 5,
   "metadata": {},
   "outputs": [],
   "source": [
    "while True:\n",
    "    geturl = requests.get(url)\n",
    "    photoweb = geturl.content\n",
    "    photobyte = bytearray(photoweb)\n",
    "    image1d = np.array(photobyte)\n",
    "    frame = cv2.imdecode(image1d,-1)\n",
    "    faces = face_detect.detectMultiScale(frame)\n",
    "    if faces is not ():\n",
    "        pass\n",
    "        x=faces[0][0]\n",
    "        y=faces[0][1]\n",
    "        w=faces[0][2]\n",
    "        h=faces[0][3]\n",
    "        frame = cv2.rectangle(frame,(x-20,y-20),(x+w+20,y+h+20),(0,225,0),4)\n",
    "        cv2.imshow('fd',frame)\n",
    "        if cv2.waitKey(1) == 13:\n",
    "            break\n",
    "cv2.destroyAllWindows()\n"
   ]
  },
  {
   "cell_type": "code",
   "execution_count": null,
   "metadata": {},
   "outputs": [],
   "source": []
  }
 ],
 "metadata": {
  "kernelspec": {
   "display_name": "Python 3",
   "language": "python",
   "name": "python3"
  },
  "language_info": {
   "codemirror_mode": {
    "name": "ipython",
    "version": 3
   },
   "file_extension": ".py",
   "mimetype": "text/x-python",
   "name": "python",
   "nbconvert_exporter": "python",
   "pygments_lexer": "ipython3",
   "version": "3.6.4"
  }
 },
 "nbformat": 4,
 "nbformat_minor": 2
}
