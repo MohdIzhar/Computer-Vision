{
 "cells": [
  {
   "cell_type": "code",
   "execution_count": 1,
   "metadata": {},
   "outputs": [],
   "source": [
    "# importing the openCV module and request module for connection request and numpy for conversion\n",
    "import cv2\n",
    "import requests\n",
    "import numpy as np"
   ]
  },
  {
   "cell_type": "code",
   "execution_count": 2,
   "metadata": {},
   "outputs": [],
   "source": [
    "url = \"http://192.168.43.1:8080/shot.jpg\""
   ]
  },
  {
   "cell_type": "code",
   "execution_count": 3,
   "metadata": {},
   "outputs": [],
   "source": [
    "# clicking the continous pictures using while loop to perform video stream\n",
    "while True:\n",
    "    # using url to get connection\n",
    "    geturl = requests.get(url)\n",
    "    \n",
    "    # getting the content from url\n",
    "    photoweb = geturl.content\n",
    "    \n",
    "    # encoding the type of content\n",
    "    photobyte = bytearray(photoweb)\n",
    "    \n",
    "    # converting the array type\n",
    "    image1d = np.array(photobyte)\n",
    "    \n",
    "    # decoding the imagetype\n",
    "    frame = cv2.imdecode(image1d, -1)\n",
    "    \n",
    "    cv2.imshow('ipcam',frame)\n",
    "    if cv2.waitKey(1) == 13:\n",
    "        break\n",
    "cv2.destroyAllWindows()"
   ]
  },
  {
   "cell_type": "code",
   "execution_count": 6,
   "metadata": {},
   "outputs": [],
   "source": [
    "# cropping the streaming to corner also\n",
    "while True:\n",
    "    geturl=requests.get(url)\n",
    "    photoweb = geturl.content\n",
    "    photobyte = bytearray(photoweb)\n",
    "    image1d = np.array(photobyte)\n",
    "    frame = cv2.imdecode(image1d,-1)\n",
    "    crop = frame[250:500,250:500]\n",
    "    frame[0:250,0:250] = crop[:]\n",
    "    cv2.imshow('ipcam',frame)\n",
    "    if cv2.waitKey(1) == 13:\n",
    "        break\n",
    "cv2.destroyAllWindows()"
   ]
  },
  {
   "cell_type": "code",
   "execution_count": null,
   "metadata": {},
   "outputs": [],
   "source": []
  }
 ],
 "metadata": {
  "kernelspec": {
   "display_name": "Python 3",
   "language": "python",
   "name": "python3"
  },
  "language_info": {
   "codemirror_mode": {
    "name": "ipython",
    "version": 3
   },
   "file_extension": ".py",
   "mimetype": "text/x-python",
   "name": "python",
   "nbconvert_exporter": "python",
   "pygments_lexer": "ipython3",
   "version": "3.6.4"
  }
 },
 "nbformat": 4,
 "nbformat_minor": 2
}
